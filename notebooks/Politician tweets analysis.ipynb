{
 "cells": [
  {
   "cell_type": "markdown",
   "metadata": {},
   "source": [
    "**POLITICIAN TWEETS EXPLORATORY DATA ANALYSIS FOR NEWS CREATION**\n",
    "\n",
    "This notebook is meant for Exploratory Data Analysis on Politician tweets provided in the course Data Science and Big Data, given by the University of Barcelona (Course 2018-2019).\n",
    "\n",
    "First two cells are meant for loading dependencies and setting up the environment. \n",
    "\n",
    "!! Modify **ROOT_PATH** to the path in which you cloned the repository !!"
   ]
  },
  {
   "cell_type": "code",
   "execution_count": 5,
   "metadata": {
    "scrolled": true
   },
   "outputs": [
    {
     "name": "stdout",
     "output_type": "stream",
     "text": [
      "The autoreload extension is already loaded. To reload it, use:\n",
      "  %reload_ext autoreload\n"
     ]
    }
   ],
   "source": [
    "%load_ext autoreload\n",
    "%autoreload 2\n",
    "%matplotlib inline\n",
    "import os\n",
    "import sys\n",
    "ROOT_PATH = \"C:/workspace/my_repos/Capstone DS/\"\n",
    "sys.path.append(os.path.join(ROOT_PATH, 'src'))"
   ]
  },
  {
   "cell_type": "code",
   "execution_count": 6,
   "metadata": {},
   "outputs": [],
   "source": [
    "#All imports goes here\n",
    "import pandas as pd\n",
    "from parties_classification import *"
   ]
  },
  {
   "cell_type": "markdown",
   "metadata": {},
   "source": [
    "**LOAD DATA INTO ENVIRONMENT**\n",
    "\n",
    "Tweets train dataframe provided is loaded into environment and analysis performed using the three main cloud computing providers (Azure Portal, Google Cloud Platform and Amazon Web Services)"
   ]
  },
  {
   "cell_type": "code",
   "execution_count": 9,
   "metadata": {},
   "outputs": [
    {
     "name": "stdout",
     "output_type": "stream",
     "text": [
      "   Id  party  az_positive  az_negative  az_neutral  google_sentiment  \\\n",
      "0   0  bcomu          0.0          0.0         1.0              0.05   \n",
      "1   1  bcomu          0.0          0.0         1.0              0.80   \n",
      "2   2  bcomu          0.0          0.0         1.0              0.10   \n",
      "3   3  jxcat          0.0          1.0         0.0              0.45   \n",
      "4   4  jxcat          0.0          0.0         1.0              0.80   \n",
      "\n",
      "   azure_sentiment  google_emotion  \n",
      "0             0.52            0.95  \n",
      "1             0.46            0.80  \n",
      "2             0.32            0.90  \n",
      "3             0.40            0.55  \n",
      "4             0.78            0.80  \n"
     ]
    }
   ],
   "source": [
    "#Load Tweets together with corresponding sentiments.\n",
    "TWEETS_FPATH = os.path.join(ROOT_PATH, \"Data/train_traducido.csv\")\n",
    "tweets_df = pd.read_csv(\n",
    "    TWEETS_FPATH, delimiter=';')\n",
    "tweets_df = add_text_clean_col_to_df(tweets_df)\n",
    "keep_cols = ['Id', 'party']\n",
    "tweets_df = tweets_df.loc[:,keep_cols]\n",
    "sent_df = get_sentiment_features_df(ROOT_PATH, tweets_df, str='train')\n",
    "tweets_df = tweets_df.merge(sent_df,\n",
    "                            on=\"Id\",\n",
    "                            how='left')\n",
    "print(tweets_df.head(5))"
   ]
  },
  {
   "cell_type": "markdown",
   "metadata": {},
   "source": [
    "**ANALYSYS**\n",
    "\n",
    "Once Data has been loaded it is time to play arround and start plotting aggregation. \n",
    "\n",
    "A brief description of the data and explanation of what is and how it is calcuated each of the sentiment metrics should be included in the introduction of the article/news."
   ]
  },
  {
   "cell_type": "code",
   "execution_count": 10,
   "metadata": {},
   "outputs": [
    {
     "name": "stdout",
     "output_type": "stream",
     "text": [
      "                     Id  az_positive  az_negative  az_neutral  \\\n",
      "party                                                           \n",
      "bcncapital  3615.869565     0.080563     0.092072    0.822251   \n",
      "bcomu       3602.057606     0.150315     0.083708    0.764176   \n",
      "cup         3518.344985     0.072948     0.109422    0.816109   \n",
      "erc         3657.365248     0.179078     0.090426    0.727837   \n",
      "jxcat       3680.588486     0.225187     0.087513    0.686233   \n",
      "pp          3487.202279     0.103514     0.099715    0.795821   \n",
      "psc         3698.866995     0.171182     0.036946    0.790640   \n",
      "vallsbcn    3600.115489     0.144218     0.126531    0.727891   \n",
      "\n",
      "            google_sentiment  azure_sentiment  google_emotion  \n",
      "party                                                          \n",
      "bcncapital          0.486701         0.562123        0.726215  \n",
      "bcomu               0.569442         0.611566        0.754950  \n",
      "cup                 0.497644         0.561900        0.728343  \n",
      "erc                 0.522651         0.605488        0.759176  \n",
      "jxcat               0.562113         0.626062        0.765208  \n",
      "pp                  0.487607         0.569592        0.744492  \n",
      "psc                 0.622537         0.637254        0.761084  \n",
      "vallsbcn            0.475238         0.566218        0.759728  \n"
     ]
    }
   ],
   "source": [
    "c_df = tweets_df.groupby(\"party\").count()\\\n",
    "    .rename(columns={'Id':'counts'})\\\n",
    "    .reset_index(drop=False).iloc[:,[0,1]]\n",
    "c_dict = dict(zip(c_df.party,c_df.counts))\n",
    "c_df = tweets_df.groupby(\"party\").agg('mean')\n",
    "\n",
    "print(c_df)"
   ]
  },
  {
   "cell_type": "markdown",
   "metadata": {},
   "source": [
    "First quick analysis: The most positive party is PSC which has both in Azure and in Google the highest mean sentiment score. "
   ]
  },
  {
   "cell_type": "code",
   "execution_count": null,
   "metadata": {},
   "outputs": [],
   "source": []
  }
 ],
 "metadata": {
  "kernelspec": {
   "display_name": "Python 3",
   "language": "python",
   "name": "python3"
  },
  "language_info": {
   "codemirror_mode": {
    "name": "ipython",
    "version": 3
   },
   "file_extension": ".py",
   "mimetype": "text/x-python",
   "name": "python",
   "nbconvert_exporter": "python",
   "pygments_lexer": "ipython3",
   "version": "3.7.3"
  }
 },
 "nbformat": 4,
 "nbformat_minor": 2
}
